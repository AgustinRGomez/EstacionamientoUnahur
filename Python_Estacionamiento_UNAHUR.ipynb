{
  "nbformat": 4,
  "nbformat_minor": 0,
  "metadata": {
    "colab": {
      "provenance": [],
      "include_colab_link": true
    },
    "kernelspec": {
      "name": "python3",
      "display_name": "Python 3"
    },
    "language_info": {
      "name": "python"
    }
  },
  "cells": [
    {
      "cell_type": "markdown",
      "metadata": {
        "id": "view-in-github",
        "colab_type": "text"
      },
      "source": [
        "<a href=\"https://colab.research.google.com/github/AgustinRGomez/EstacionamientoUnahur/blob/main/Python_Estacionamiento_UNAHUR.ipynb\" target=\"_parent\"><img src=\"https://colab.research.google.com/assets/colab-badge.svg\" alt=\"Open In Colab\"/></a>"
      ]
    },
    {
      "cell_type": "markdown",
      "source": [
        "## ***Recordatorio de como funcionaba una lista.***\n"
      ],
      "metadata": {
        "id": "8PUIpafWPfdc"
      }
    },
    {
      "cell_type": "code",
      "source": [
        "lista = []\n",
        "lista.append((\"AAA345\",12,2))\n",
        "lista.append((\"GDT111\",3,4))\n",
        "lista.append((\"AFA313\",5,6))\n",
        "lista.append((\"AFGA340\",7,8))\n",
        "lista.append((\"AVC491\",10,0))\n",
        "print(lista[0][0]) #imprimir contenido de la posicion 0.\n",
        "print(lista[0][1]) #imprimir contenido de la posicion 1.\n",
        "print(lista[0][2]) #imprimir contenido de la posicion 2."
      ],
      "metadata": {
        "colab": {
          "base_uri": "https://localhost:8080/"
        },
        "id": "CjKS3WcfPkPl",
        "outputId": "d24f5452-d588-4b9e-b8d8-d533bbb48d94"
      },
      "execution_count": 8,
      "outputs": [
        {
          "output_type": "stream",
          "name": "stdout",
          "text": [
            "AAA345\n",
            "12\n",
            "2\n"
          ]
        }
      ]
    },
    {
      "cell_type": "markdown",
      "source": [
        "## ***Armado de la Clase Estacionamiento y de la Clase Sector.***"
      ],
      "metadata": {
        "id": "SgwlV86ZSy72"
      }
    },
    {
      "cell_type": "code",
      "source": [
        "#clase TDAS\n",
        "import numpy as np\n",
        "class Estacionamiento:\n",
        "  def __init__(self):\n",
        "    self.sector_general = Sector(100) #declaro 3 sectores : general,docente y alumno con sus respectivos tamaños.\n",
        "    self.sector_docente = Sector(50)\n",
        "    self.sector_alumno = Sector(50)\n",
        "    self.recaudacion = 0\n",
        "\n",
        "  def add_matricula(self,matricula,hora_ent,sector):\n",
        "      #Ademas de verificar el sector en el que quiero alojar el vehiculo,verifico si dicho vehiculo esta estacionado en otro sector.\n",
        "      if type(sector) == str:\n",
        "        if ((sector == \"docente\") and not(self.sector_general.validate_car(matricula)) and not(self.sector_alumno.validate_car(matricula)) ):\n",
        "             self.sector_docente.add_car(matricula,hora_ent)\n",
        "\n",
        "        elif (sector == \"alumno\")and not(self.sector_docente.validate_car(matricula)) and not(self.sector_general.validate_car(matricula)) :\n",
        "            self.sector_alumno.add_car(matricula,hora_ent)\n",
        "\n",
        "        elif (sector == \"general\" )and not(self.sector_docente.validate_car(matricula)) and not(self.sector_alumno.validate_car(matricula)):\n",
        "            self.sector_general.add_car(matricula,hora_ent)\n",
        "        else : raise Exception (f\"El vehiculo no se puede agregar porque esta estacionado en otro Sector.\")\n",
        "\n",
        "      else: raise Exception(\"El sector de estacionamiento tiene que ser de tipo str\")\n",
        "\n",
        "  def delete_matricula(self,matricula,hora_sal):\n",
        "      #Verifico donde esta el vehiculo ,si lo encuentra lo elimina de dicho sector.\n",
        "      if  self.sector_docente.validate_car(matricula) :\n",
        "        self.sector_docente.delete_car(matricula,hora_sal)\n",
        "\n",
        "      elif self.sector_alumno.validate_car(matricula) :\n",
        "        self.sector_alumno.delete_car(matricula,hora_sal)\n",
        "\n",
        "      elif self.sector_general.validate_car(matricula) :\n",
        "        self.sector_general.delete_car(matricula,hora_sal)\n",
        "      else :\n",
        "        raise Exception(\"El vehiculo que quiere eliminar no se encuentra en ningun sector del estacionamiento.\")\n",
        "\n",
        "  def getRecaudacion(self):\n",
        "\n",
        "      self.recaudacion = self.sector_docente.dif_time * 10 + self.sector_alumno.dif_time * 5 + self.sector_general.dif_time * 20\n",
        "      print(f\"El total a recaudar es {self.sector_docente.dif_time} * $10 + {self.sector_alumno.dif_time} * $5 + {self.sector_general.dif_time} * $20  = {self.recaudacion}\")\n",
        "\n",
        "  #Obtengo la recaudacion que acumula el estacionamiento.\n",
        "  # Para el metodo getRecaudacion llamo desde los sectores la diferencia de tiempo que acumulo en cada sector.\n",
        "\n",
        "  def IsMatriculaInEstacionamientoAt(self,matricula,hora_det):\n",
        "    #recorro en los registros si esta la matricula a consultar.\n",
        "    if self.sector_docente.isCarInSectorAt(matricula,hora_det):\n",
        "      print(f\"El vehiculo con la matricula {matricula} si estuvo a la {hora_det} horas en el estacionamiento.\")\n",
        "    elif self.sector_alumno.isCarInSectorAt(matricula,hora_det):\n",
        "      print(f\"El vehiculo con la matricula {matricula} si estuvo a la {hora_det} horas en el estacionamiento.\")\n",
        "    elif self.sector_general.isCarInSectorAt(matricula,hora_det):\n",
        "      print(f\"El vehiculo con la matricula {matricula} si estuvo a la {hora_det} horas en el estacionamiento.\")\n",
        "    else:\n",
        "      raise Exception(f\"El vehiculo con la matricula {matricula} no estuvo a la {hora_det} horas en el estacionamiento.\")\n",
        "\n",
        "class Sector:\n",
        "  def __init__(self,tamaño):\n",
        "    self.tamaño = tamaño # Capacidad que tiene el sector de almacenar vehiculos.\n",
        "    self.lista_car = []  # Lista donde se almacenara los vehiculos.\n",
        "    self.cant_v = 0      # Cantidad de vehiculos en el sector.\n",
        "    self.dif_time = 0    # El tiempo que estuvo el vehiculo estacionado.Desde que entro hasta que salio.\n",
        "    self.registro = []   # Lista de vehiculos registrados en el sector.\n",
        "\n",
        "  def add_car(self,matricula,hora_ent):\n",
        "    if (not self.validate_car(matricula)):                      #Verifica si la matricula ya esta en la lista.\n",
        "        if (type(matricula) == str and len(matricula) == 6):    #Chequea el tipo de la variable matricula y su tamaño igual a 6.\n",
        "            if hora_ent >= 0 :                                  #Consulto si la hora_ent es mayor o igual a 0.\n",
        "               if self.cant_v < self.tamaño:                    #Consulto si la cantidad de vehiculos supera el tamaño que tiene el Sector.\n",
        "                  hora_sal = 0\n",
        "                  self.lista_car.append([matricula,hora_ent,hora_sal])   #Agrego matricula y la hora de entrada a la lista del sector.\n",
        "                  self.cant_v+= 1                               #Aumenta la cantidad de vehiculos que tiene la lista del sector.\n",
        "\n",
        "                  print(f\"El vehiculo {matricula} ingreso a las {hora_ent} horas\")\n",
        "\n",
        "               else: raise Exception(\"El sector esta ocupado por lo tanto no puedo almacenar vehiculos.\")\n",
        "            else: raise Exception(\"La hora de entrada no puede ser negativa.\")\n",
        "        else: raise Exception(\"La matricula tiene que ser str con una longitud de 6.\")\n",
        "    else: raise Exception(\"No se puede agregar un vehiculo que esta dentro del estacionamiento.\")\n",
        "\n",
        "  def delete_car(self,matricula,hora_sal):\n",
        "    for i in range(len(self.lista_car)):                             #Recorro la lista de vehiculos.\n",
        "       if self.lista_car[i][0] == matricula:                         #Verifico que el vehiculo esta en la lista.\n",
        "          self.lista_car[i][2] = hora_sal\n",
        "          self.dif_time += self.lista_car[i][2] - self.lista_car[i][1]#Obtengo el tiempo que estuvo el vehiculo estacionado.\n",
        "\n",
        "          self.registro.append(self.lista_car[i])                    #Registro el vehiculo con los datos que tiene antes de que salga.\n",
        "          del self.lista_car[i]                                      #Elimina el vehiculo de la lista.\n",
        "          self.cant_v -= 1                                           #Indica que se desocupo un lugar en la lista.\n",
        "          print(f\"El vehiculo {matricula} se retiro a las {hora_sal} horas\")\n",
        "          break\n",
        "\n",
        "  def validate_car(self,matricula):\n",
        "     for i in range(len(self.lista_car)):                 #Recorro la lista de vehiculos.\n",
        "          if matricula == self.lista_car[i][0]:           #Verifico que la matricula del vehiculo este en la lista.\n",
        "             return True                                  #Si esta dicho vehiculo en la lista retorna un True.\n",
        "             break\n",
        "\n",
        "  def isCarInSectorAt(self,matricula,hora_det):\n",
        "     if hora_det >= 0 :                                            #Chequeo que la hora determinada sea mayor a 0 .\n",
        "       if type(matricula) == str and len(matricula) == 6:          #Chequeo la matricula sea de tipo str con tamaño igual a 6.\n",
        "        for i in range(len(self.registro)):\n",
        "          matri = self.registro[i][0]                              #asigno matricula,hora de entrada y hora de salida a 3 variables.\n",
        "          hora_ent = self.registro[i][1]\n",
        "          hora_sal = self.registro[i][2]\n",
        "          if (matri == matricula )and (hora_ent <= hora_det)  and (hora_det <= hora_sal or hora_sal == 0): #Verifico que la hora determinada este entre la hora de entrada y la de salida.\n",
        "            return True                                                                   #Si se cumple la condicion retorna un True.\n",
        "            break\n",
        "\n",
        "       else: raise Exception(\"La matricula tiene que ser str con una longitud de 6.\")\n",
        "     else: raise Exception(\"La hora de entrada no puede ser negativa.\")"
      ],
      "metadata": {
        "id": "lAfrA79PSzRL"
      },
      "execution_count": 10,
      "outputs": []
    },
    {
      "cell_type": "markdown",
      "source": [
        "\n",
        "## ***Verificacion de las Excepciones que tiene la clase Estacionamiento y la clase Sector***"
      ],
      "metadata": {
        "id": "3q3g4pCE65_S"
      }
    },
    {
      "cell_type": "code",
      "source": [
        "e2 = Estacionamiento()\n",
        "e2.add_matricula(\"AAA111\",11,\"docente\")\n",
        "e2.add_matricula(\"AAA111\",11,\"alumno\")\n",
        "e2.add_matricula(\"AAA111\",11,\"general\")"
      ],
      "metadata": {
        "colab": {
          "base_uri": "https://localhost:8080/",
          "height": 368
        },
        "id": "LseO6wNCTfpB",
        "outputId": "81df0f80-6632-4578-cbad-f01baa44af52"
      },
      "execution_count": 11,
      "outputs": [
        {
          "output_type": "stream",
          "name": "stdout",
          "text": [
            "El vehiculo AAA111 ingreso a las 11 horas\n"
          ]
        },
        {
          "output_type": "error",
          "ename": "Exception",
          "evalue": "El vehiculo no se puede agregar porque esta estacionado en otro Sector.",
          "traceback": [
            "\u001b[0;31m---------------------------------------------------------------------------\u001b[0m",
            "\u001b[0;31mException\u001b[0m                                 Traceback (most recent call last)",
            "\u001b[0;32m<ipython-input-11-d8d0854dcec4>\u001b[0m in \u001b[0;36m<cell line: 3>\u001b[0;34m()\u001b[0m\n\u001b[1;32m      1\u001b[0m \u001b[0me2\u001b[0m \u001b[0;34m=\u001b[0m \u001b[0mEstacionamiento\u001b[0m\u001b[0;34m(\u001b[0m\u001b[0;34m)\u001b[0m\u001b[0;34m\u001b[0m\u001b[0;34m\u001b[0m\u001b[0m\n\u001b[1;32m      2\u001b[0m \u001b[0me2\u001b[0m\u001b[0;34m.\u001b[0m\u001b[0madd_matricula\u001b[0m\u001b[0;34m(\u001b[0m\u001b[0;34m\"AAA111\"\u001b[0m\u001b[0;34m,\u001b[0m\u001b[0;36m11\u001b[0m\u001b[0;34m,\u001b[0m\u001b[0;34m\"docente\"\u001b[0m\u001b[0;34m)\u001b[0m\u001b[0;34m\u001b[0m\u001b[0;34m\u001b[0m\u001b[0m\n\u001b[0;32m----> 3\u001b[0;31m \u001b[0me2\u001b[0m\u001b[0;34m.\u001b[0m\u001b[0madd_matricula\u001b[0m\u001b[0;34m(\u001b[0m\u001b[0;34m\"AAA111\"\u001b[0m\u001b[0;34m,\u001b[0m\u001b[0;36m11\u001b[0m\u001b[0;34m,\u001b[0m\u001b[0;34m\"alumno\"\u001b[0m\u001b[0;34m)\u001b[0m\u001b[0;34m\u001b[0m\u001b[0;34m\u001b[0m\u001b[0m\n\u001b[0m\u001b[1;32m      4\u001b[0m \u001b[0me2\u001b[0m\u001b[0;34m.\u001b[0m\u001b[0madd_matricula\u001b[0m\u001b[0;34m(\u001b[0m\u001b[0;34m\"AAA111\"\u001b[0m\u001b[0;34m,\u001b[0m\u001b[0;36m11\u001b[0m\u001b[0;34m,\u001b[0m\u001b[0;34m\"general\"\u001b[0m\u001b[0;34m)\u001b[0m\u001b[0;34m\u001b[0m\u001b[0;34m\u001b[0m\u001b[0m\n",
            "\u001b[0;32m<ipython-input-10-e1e8a7a0fb51>\u001b[0m in \u001b[0;36madd_matricula\u001b[0;34m(self, matricula, hora_ent, sector)\u001b[0m\n\u001b[1;32m     19\u001b[0m         \u001b[0;32melif\u001b[0m \u001b[0;34m(\u001b[0m\u001b[0msector\u001b[0m \u001b[0;34m==\u001b[0m \u001b[0;34m\"general\"\u001b[0m \u001b[0;34m)\u001b[0m\u001b[0;32mand\u001b[0m \u001b[0;32mnot\u001b[0m\u001b[0;34m(\u001b[0m\u001b[0mself\u001b[0m\u001b[0;34m.\u001b[0m\u001b[0msector_docente\u001b[0m\u001b[0;34m.\u001b[0m\u001b[0mvalidate_car\u001b[0m\u001b[0;34m(\u001b[0m\u001b[0mmatricula\u001b[0m\u001b[0;34m)\u001b[0m\u001b[0;34m)\u001b[0m \u001b[0;32mand\u001b[0m \u001b[0;32mnot\u001b[0m\u001b[0;34m(\u001b[0m\u001b[0mself\u001b[0m\u001b[0;34m.\u001b[0m\u001b[0msector_alumno\u001b[0m\u001b[0;34m.\u001b[0m\u001b[0mvalidate_car\u001b[0m\u001b[0;34m(\u001b[0m\u001b[0mmatricula\u001b[0m\u001b[0;34m)\u001b[0m\u001b[0;34m)\u001b[0m\u001b[0;34m:\u001b[0m\u001b[0;34m\u001b[0m\u001b[0;34m\u001b[0m\u001b[0m\n\u001b[1;32m     20\u001b[0m             \u001b[0mself\u001b[0m\u001b[0;34m.\u001b[0m\u001b[0msector_general\u001b[0m\u001b[0;34m.\u001b[0m\u001b[0madd_car\u001b[0m\u001b[0;34m(\u001b[0m\u001b[0mmatricula\u001b[0m\u001b[0;34m,\u001b[0m\u001b[0mhora_ent\u001b[0m\u001b[0;34m)\u001b[0m\u001b[0;34m\u001b[0m\u001b[0;34m\u001b[0m\u001b[0m\n\u001b[0;32m---> 21\u001b[0;31m         \u001b[0;32melse\u001b[0m \u001b[0;34m:\u001b[0m \u001b[0;32mraise\u001b[0m \u001b[0mException\u001b[0m \u001b[0;34m(\u001b[0m\u001b[0;34mf\"El vehiculo no se puede agregar porque esta estacionado en otro Sector.\"\u001b[0m\u001b[0;34m)\u001b[0m\u001b[0;34m\u001b[0m\u001b[0;34m\u001b[0m\u001b[0m\n\u001b[0m\u001b[1;32m     22\u001b[0m \u001b[0;34m\u001b[0m\u001b[0m\n\u001b[1;32m     23\u001b[0m       \u001b[0;32melse\u001b[0m\u001b[0;34m:\u001b[0m \u001b[0;32mraise\u001b[0m \u001b[0mException\u001b[0m\u001b[0;34m(\u001b[0m\u001b[0;34m\"El sector de estacionamiento tiene que ser de tipo str\"\u001b[0m\u001b[0;34m)\u001b[0m\u001b[0;34m\u001b[0m\u001b[0;34m\u001b[0m\u001b[0m\n",
            "\u001b[0;31mException\u001b[0m: El vehiculo no se puede agregar porque esta estacionado en otro Sector."
          ]
        }
      ]
    },
    {
      "cell_type": "code",
      "source": [
        "e4 = Estacionamiento()\n",
        "e4.delete_matricula(\"AAD456\",13)"
      ],
      "metadata": {
        "colab": {
          "base_uri": "https://localhost:8080/",
          "height": 316
        },
        "id": "TPzQeMlEQ6ap",
        "outputId": "d5eddbb1-8cb0-421f-9f17-ca22a57255c9"
      },
      "execution_count": 12,
      "outputs": [
        {
          "output_type": "error",
          "ename": "Exception",
          "evalue": "El vehiculo que quiere eliminar no se encuentra en ningun sector del estacionamiento.",
          "traceback": [
            "\u001b[0;31m---------------------------------------------------------------------------\u001b[0m",
            "\u001b[0;31mException\u001b[0m                                 Traceback (most recent call last)",
            "\u001b[0;32m<ipython-input-12-b021bc9a675b>\u001b[0m in \u001b[0;36m<cell line: 2>\u001b[0;34m()\u001b[0m\n\u001b[1;32m      1\u001b[0m \u001b[0me4\u001b[0m \u001b[0;34m=\u001b[0m \u001b[0mEstacionamiento\u001b[0m\u001b[0;34m(\u001b[0m\u001b[0;34m)\u001b[0m\u001b[0;34m\u001b[0m\u001b[0;34m\u001b[0m\u001b[0m\n\u001b[0;32m----> 2\u001b[0;31m \u001b[0me4\u001b[0m\u001b[0;34m.\u001b[0m\u001b[0mdelete_matricula\u001b[0m\u001b[0;34m(\u001b[0m\u001b[0;34m\"AAD456\"\u001b[0m\u001b[0;34m,\u001b[0m\u001b[0;36m13\u001b[0m\u001b[0;34m)\u001b[0m\u001b[0;34m\u001b[0m\u001b[0;34m\u001b[0m\u001b[0m\n\u001b[0m",
            "\u001b[0;32m<ipython-input-10-e1e8a7a0fb51>\u001b[0m in \u001b[0;36mdelete_matricula\u001b[0;34m(self, matricula, hora_sal)\u001b[0m\n\u001b[1;32m     34\u001b[0m         \u001b[0mself\u001b[0m\u001b[0;34m.\u001b[0m\u001b[0msector_general\u001b[0m\u001b[0;34m.\u001b[0m\u001b[0mdelete_car\u001b[0m\u001b[0;34m(\u001b[0m\u001b[0mmatricula\u001b[0m\u001b[0;34m,\u001b[0m\u001b[0mhora_sal\u001b[0m\u001b[0;34m)\u001b[0m\u001b[0;34m\u001b[0m\u001b[0;34m\u001b[0m\u001b[0m\n\u001b[1;32m     35\u001b[0m       \u001b[0;32melse\u001b[0m \u001b[0;34m:\u001b[0m\u001b[0;34m\u001b[0m\u001b[0;34m\u001b[0m\u001b[0m\n\u001b[0;32m---> 36\u001b[0;31m         \u001b[0;32mraise\u001b[0m \u001b[0mException\u001b[0m\u001b[0;34m(\u001b[0m\u001b[0;34m\"El vehiculo que quiere eliminar no se encuentra en ningun sector del estacionamiento.\"\u001b[0m\u001b[0;34m)\u001b[0m\u001b[0;34m\u001b[0m\u001b[0;34m\u001b[0m\u001b[0m\n\u001b[0m\u001b[1;32m     37\u001b[0m \u001b[0;34m\u001b[0m\u001b[0m\n\u001b[1;32m     38\u001b[0m   \u001b[0;32mdef\u001b[0m \u001b[0mgetRecaudacion\u001b[0m\u001b[0;34m(\u001b[0m\u001b[0mself\u001b[0m\u001b[0;34m)\u001b[0m\u001b[0;34m:\u001b[0m\u001b[0;34m\u001b[0m\u001b[0;34m\u001b[0m\u001b[0m\n",
            "\u001b[0;31mException\u001b[0m: El vehiculo que quiere eliminar no se encuentra en ningun sector del estacionamiento."
          ]
        }
      ]
    },
    {
      "cell_type": "code",
      "source": [
        "e5 = Estacionamiento()\n",
        "e5.add_matricula(\"AAA111\",11,\"docente\")\n",
        "e5.add_matricula(\"BBB111\",12,\"alumno\")\n",
        "e5.add_matricula(\"CCC111\",10,\"general\")\n",
        "e5.delete_matricula(\"AAA111\",13)\n",
        "e5.delete_matricula(\"BBB111\",15)\n",
        "e5.delete_matricula(\"CCC111\",13)\n",
        "e5.getRecaudacion()\n",
        "e5.IsMatriculaInEstacionamientoAt(\"AAA111\",13)\n",
        "e5.IsMatriculaInEstacionamientoAt(\"BBB111\",14)\n",
        "e5.IsMatriculaInEstacionamientoAt(\"CCC111\",20)"
      ],
      "metadata": {
        "colab": {
          "base_uri": "https://localhost:8080/",
          "height": 490
        },
        "id": "D51OMiuYnZ3S",
        "outputId": "2de3b05e-60dd-4b79-d2ca-c18e8ce65c29"
      },
      "execution_count": 13,
      "outputs": [
        {
          "output_type": "stream",
          "name": "stdout",
          "text": [
            "El vehiculo AAA111 ingreso a las 11 horas\n",
            "El vehiculo BBB111 ingreso a las 12 horas\n",
            "El vehiculo CCC111 ingreso a las 10 horas\n",
            "El vehiculo AAA111 se retiro a las 13 horas\n",
            "El vehiculo BBB111 se retiro a las 15 horas\n",
            "El vehiculo CCC111 se retiro a las 13 horas\n",
            "El total a recaudar es 2 * $10 + 3 * $5 + 3 * $20  = 95\n",
            "El vehiculo con la matricula AAA111 si estuvo a la 13 horas en el estacionamiento.\n",
            "El vehiculo con la matricula BBB111 si estuvo a la 14 horas en el estacionamiento.\n"
          ]
        },
        {
          "output_type": "error",
          "ename": "Exception",
          "evalue": "El vehiculo con la matricula CCC111 no estuvo a la 20 horas en el estacionamiento.",
          "traceback": [
            "\u001b[0;31m---------------------------------------------------------------------------\u001b[0m",
            "\u001b[0;31mException\u001b[0m                                 Traceback (most recent call last)",
            "\u001b[0;32m<ipython-input-13-045fd5a888ca>\u001b[0m in \u001b[0;36m<cell line: 11>\u001b[0;34m()\u001b[0m\n\u001b[1;32m      9\u001b[0m \u001b[0me5\u001b[0m\u001b[0;34m.\u001b[0m\u001b[0mIsMatriculaInEstacionamientoAt\u001b[0m\u001b[0;34m(\u001b[0m\u001b[0;34m\"AAA111\"\u001b[0m\u001b[0;34m,\u001b[0m\u001b[0;36m13\u001b[0m\u001b[0;34m)\u001b[0m\u001b[0;34m\u001b[0m\u001b[0;34m\u001b[0m\u001b[0m\n\u001b[1;32m     10\u001b[0m \u001b[0me5\u001b[0m\u001b[0;34m.\u001b[0m\u001b[0mIsMatriculaInEstacionamientoAt\u001b[0m\u001b[0;34m(\u001b[0m\u001b[0;34m\"BBB111\"\u001b[0m\u001b[0;34m,\u001b[0m\u001b[0;36m14\u001b[0m\u001b[0;34m)\u001b[0m\u001b[0;34m\u001b[0m\u001b[0;34m\u001b[0m\u001b[0m\n\u001b[0;32m---> 11\u001b[0;31m \u001b[0me5\u001b[0m\u001b[0;34m.\u001b[0m\u001b[0mIsMatriculaInEstacionamientoAt\u001b[0m\u001b[0;34m(\u001b[0m\u001b[0;34m\"CCC111\"\u001b[0m\u001b[0;34m,\u001b[0m\u001b[0;36m20\u001b[0m\u001b[0;34m)\u001b[0m\u001b[0;34m\u001b[0m\u001b[0;34m\u001b[0m\u001b[0m\n\u001b[0m",
            "\u001b[0;32m<ipython-input-10-e1e8a7a0fb51>\u001b[0m in \u001b[0;36mIsMatriculaInEstacionamientoAt\u001b[0;34m(self, matricula, hora_det)\u001b[0m\n\u001b[1;32m     53\u001b[0m       \u001b[0mprint\u001b[0m\u001b[0;34m(\u001b[0m\u001b[0;34mf\"El vehiculo con la matricula {matricula} si estuvo a la {hora_det} horas en el estacionamiento.\"\u001b[0m\u001b[0;34m)\u001b[0m\u001b[0;34m\u001b[0m\u001b[0;34m\u001b[0m\u001b[0m\n\u001b[1;32m     54\u001b[0m     \u001b[0;32melse\u001b[0m\u001b[0;34m:\u001b[0m\u001b[0;34m\u001b[0m\u001b[0;34m\u001b[0m\u001b[0m\n\u001b[0;32m---> 55\u001b[0;31m       \u001b[0;32mraise\u001b[0m \u001b[0mException\u001b[0m\u001b[0;34m(\u001b[0m\u001b[0;34mf\"El vehiculo con la matricula {matricula} no estuvo a la {hora_det} horas en el estacionamiento.\"\u001b[0m\u001b[0;34m)\u001b[0m\u001b[0;34m\u001b[0m\u001b[0;34m\u001b[0m\u001b[0m\n\u001b[0m\u001b[1;32m     56\u001b[0m \u001b[0;34m\u001b[0m\u001b[0m\n\u001b[1;32m     57\u001b[0m \u001b[0;32mclass\u001b[0m \u001b[0mSector\u001b[0m\u001b[0;34m:\u001b[0m\u001b[0;34m\u001b[0m\u001b[0;34m\u001b[0m\u001b[0m\n",
            "\u001b[0;31mException\u001b[0m: El vehiculo con la matricula CCC111 no estuvo a la 20 horas en el estacionamiento."
          ]
        }
      ]
    },
    {
      "cell_type": "markdown",
      "source": [
        "## ***Captura de una Exception de la clase Estacionamiento***"
      ],
      "metadata": {
        "id": "piA3EB6fRFt7"
      }
    },
    {
      "cell_type": "code",
      "source": [
        "try:\n",
        "  e3 = Estacionamiento()\n",
        "  e3.add_matricula(\"AAA111\",1,\"docente\")\n",
        "  e3.add_matricula(\"AAA111\",4,\"docente\")\n",
        "except Exception as ex:\n",
        "  assert str(ex) == \"No se puede agregar un vehiculo que esta dentro del estacionamiento.\""
      ],
      "metadata": {
        "colab": {
          "base_uri": "https://localhost:8080/"
        },
        "id": "GXwAbnMFRJkn",
        "outputId": "f455079c-bdee-4343-bd6f-0a48ecc376f4"
      },
      "execution_count": 14,
      "outputs": [
        {
          "output_type": "stream",
          "name": "stdout",
          "text": [
            "El vehiculo AAA111 ingreso a las 1 horas\n"
          ]
        }
      ]
    },
    {
      "cell_type": "markdown",
      "source": [
        "\n",
        "## ***Funcionamiento correcto de la Clase Estacionamiento***"
      ],
      "metadata": {
        "id": "LxtMbXW77kEa"
      }
    },
    {
      "cell_type": "code",
      "source": [
        "e1 = Estacionamiento()\n",
        "e1.add_matricula(\"AAA111\",11,\"docente\")\n",
        "e1.add_matricula(\"BBB111\",12,\"alumno\")\n",
        "e1.add_matricula(\"CCC111\",10,\"general\")\n",
        "\n",
        "e1.delete_matricula(\"AAA111\",13)\n",
        "e1.delete_matricula(\"BBB111\",15)\n",
        "e1.delete_matricula(\"CCC111\",13)\n",
        "\n",
        "e1.getRecaudacion()\n",
        "\n",
        "e1.add_matricula(\"ABC246\",11,\"alumno\")\n",
        "e1.add_matricula(\"BDE789\",12,\"alumno\")\n",
        "e1.add_matricula(\"FGH321\",2,\"general\")\n",
        "\n",
        "e1.delete_matricula(\"ABC246\",13)\n",
        "e1.delete_matricula(\"BDE789\",15)\n",
        "e1.delete_matricula(\"FGH321\",5)\n",
        "\n",
        "e1.getRecaudacion()\n",
        "e1.IsMatriculaInEstacionamientoAt(\"ABC246\",13)\n",
        "e1.IsMatriculaInEstacionamientoAt(\"FGH321\",4)"
      ],
      "metadata": {
        "colab": {
          "base_uri": "https://localhost:8080/"
        },
        "id": "Xk65rQmX7d5s",
        "outputId": "821aae13-5509-48a1-f5e5-f3b1641c0c89"
      },
      "execution_count": 15,
      "outputs": [
        {
          "output_type": "stream",
          "name": "stdout",
          "text": [
            "El vehiculo AAA111 ingreso a las 11 horas\n",
            "El vehiculo BBB111 ingreso a las 12 horas\n",
            "El vehiculo CCC111 ingreso a las 10 horas\n",
            "El vehiculo AAA111 se retiro a las 13 horas\n",
            "El vehiculo BBB111 se retiro a las 15 horas\n",
            "El vehiculo CCC111 se retiro a las 13 horas\n",
            "El total a recaudar es 2 * $10 + 3 * $5 + 3 * $20  = 95\n",
            "El vehiculo ABC246 ingreso a las 11 horas\n",
            "El vehiculo BDE789 ingreso a las 12 horas\n",
            "El vehiculo FGH321 ingreso a las 2 horas\n",
            "El vehiculo ABC246 se retiro a las 13 horas\n",
            "El vehiculo BDE789 se retiro a las 15 horas\n",
            "El vehiculo FGH321 se retiro a las 5 horas\n",
            "El total a recaudar es 2 * $10 + 8 * $5 + 6 * $20  = 180\n",
            "El vehiculo con la matricula ABC246 si estuvo a la 13 horas en el estacionamiento.\n",
            "El vehiculo con la matricula FGH321 si estuvo a la 4 horas en el estacionamiento.\n"
          ]
        }
      ]
    },
    {
      "cell_type": "markdown",
      "source": [
        "\n",
        "## ***Funcionamiento correcto de la Clase Sector***"
      ],
      "metadata": {
        "id": "WyauPBTYQzJi"
      }
    },
    {
      "cell_type": "code",
      "source": [
        "s1 = Sector(5)\n",
        "s1.add_car(\"AAA345\",4)\n",
        "s1.add_car(\"AVC491\",1)\n",
        "s1.add_car(\"AFG340\",7)\n",
        "s1.add_car(\"AFA313\",5)\n",
        "s1.add_car(\"GDT111\",3)\n",
        "print(\"lista original\")\n",
        "print(s1.lista_car)\n",
        "print(\"lista original borrando AFA313\")\n",
        "s1.delete_car(\"AFA313\",7)\n",
        "print(s1.registro)\n",
        "print(s1.lista_car)\n",
        "s1.add_car(\"AFA313\",3)\n",
        "print(\"lista original agregado AFA313\")\n",
        "print(s1.lista_car)\n",
        "\n",
        "s1.validate_car(\"AFA313\")\n",
        "\n",
        "s1.isCarInSectorAt(\"AFA313\",6) #Verifica si el vehiculo esta en el estacionamiento sin que el vehiculo haya salido."
      ],
      "metadata": {
        "colab": {
          "base_uri": "https://localhost:8080/"
        },
        "id": "AchclkTcSXoo",
        "outputId": "9a697d74-7e26-4e5a-c4e4-ba54f246bb08"
      },
      "execution_count": 16,
      "outputs": [
        {
          "output_type": "stream",
          "name": "stdout",
          "text": [
            "El vehiculo AAA345 ingreso a las 4 horas\n",
            "El vehiculo AVC491 ingreso a las 1 horas\n",
            "El vehiculo AFG340 ingreso a las 7 horas\n",
            "El vehiculo AFA313 ingreso a las 5 horas\n",
            "El vehiculo GDT111 ingreso a las 3 horas\n",
            "lista original\n",
            "[['AAA345', 4, 0], ['AVC491', 1, 0], ['AFG340', 7, 0], ['AFA313', 5, 0], ['GDT111', 3, 0]]\n",
            "lista original borrando AFA313\n",
            "El vehiculo AFA313 se retiro a las 7 horas\n",
            "[['AFA313', 5, 7]]\n",
            "[['AAA345', 4, 0], ['AVC491', 1, 0], ['AFG340', 7, 0], ['GDT111', 3, 0]]\n",
            "El vehiculo AFA313 ingreso a las 3 horas\n",
            "lista original agregado AFA313\n",
            "[['AAA345', 4, 0], ['AVC491', 1, 0], ['AFG340', 7, 0], ['GDT111', 3, 0], ['AFA313', 3, 0]]\n"
          ]
        },
        {
          "output_type": "execute_result",
          "data": {
            "text/plain": [
              "True"
            ]
          },
          "metadata": {},
          "execution_count": 16
        }
      ]
    }
  ]
}